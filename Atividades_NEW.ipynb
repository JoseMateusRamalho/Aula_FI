{
  "nbformat": 4,
  "nbformat_minor": 0,
  "metadata": {
    "colab": {
      "provenance": [],
      "authorship_tag": "ABX9TyMYvOP+iIasP0Bk+/OZ7rX/",
      "include_colab_link": true
    },
    "kernelspec": {
      "name": "python3",
      "display_name": "Python 3"
    },
    "language_info": {
      "name": "python"
    }
  },
  "cells": [
    {
      "cell_type": "markdown",
      "metadata": {
        "id": "view-in-github",
        "colab_type": "text"
      },
      "source": [
        "<a href=\"https://colab.research.google.com/github/JoseMateusRamalho/Aula_FI/blob/main/Atividades_NEW.ipynb\" target=\"_parent\"><img src=\"https://colab.research.google.com/assets/colab-badge.svg\" alt=\"Open In Colab\"/></a>"
      ]
    },
    {
      "cell_type": "markdown",
      "source": [
        "Par ou ímpar"
      ],
      "metadata": {
        "id": "6ENrJkNo4e4n"
      }
    },
    {
      "cell_type": "code",
      "execution_count": 2,
      "metadata": {
        "colab": {
          "base_uri": "https://localhost:8080/"
        },
        "id": "RRG90eXRyoI0",
        "outputId": "585e1cff-c421-4c6e-c4d0-efd7082b1f73"
      },
      "outputs": [
        {
          "output_type": "stream",
          "name": "stdout",
          "text": [
            "Digíte um número para ver se é par ou ímpar7\n",
            "Esse número é par?  False ,o número digitado foi:  7\n",
            "Esse número é Impar?  True ,o número digitado foi:  7\n"
          ]
        }
      ],
      "source": [
        "#entrada\n",
        "valor = int(input(\"Digíte um número para ver se é par ou ímpar\" ))\n",
        "\n",
        "#processamento\n",
        "par = (valor%2 == 0)\n",
        "impar = (valor%2 == 1)\n",
        "\n",
        "print(\"Esse número é par? \", par, \",o número digitado foi: \", valor)\n",
        "print(\"Esse número é Impar? \", impar, \",o número digitado foi: \", valor)"
      ]
    },
    {
      "cell_type": "markdown",
      "source": [
        "Triângulo"
      ],
      "metadata": {
        "id": "O3oVcTlQy_2I"
      }
    },
    {
      "cell_type": "code",
      "source": [
        "#entrada\n",
        "l1 = int(input(\"informe os tres lados do triangulo, lado1\"))\n",
        "l2 = int(input(\"lado 2 = \"))\n",
        "l3 = int(input(\"lado 3 = \"))\n",
        "\n",
        "#processamento\n",
        "\n",
        "triangulo = (l1 + l2 > l3) and (l1 + l3 > l2) and (l2 + l3 > l1 )\n",
        "equilátero = (l1 == l2 == l3)\n",
        "escaleno = (l1 == l3 ==l2)\n",
        "isosceles = (equilátero == escaleno)\n",
        "\n",
        "#saída\n",
        "print(\"triangulo\", triangulo)\n",
        "print(\"equilátero\", equilátero)\n",
        "print(\"escaleno\", escaleno)\n",
        "print(\"isosceles\", isosceles)"
      ],
      "metadata": {
        "colab": {
          "base_uri": "https://localhost:8080/"
        },
        "id": "eknOZpw8zMjq",
        "outputId": "003a8859-a91f-4f37-ec0a-18cea314058f"
      },
      "execution_count": 4,
      "outputs": [
        {
          "output_type": "stream",
          "name": "stdout",
          "text": [
            "informe os tres lados do triangulo, lado15\n",
            "lado 2 = 7\n",
            "lado 3 = 5\n",
            "triangulo True\n",
            "equilátero False\n",
            "escaleno False\n",
            "isosceles True\n"
          ]
        }
      ]
    },
    {
      "cell_type": "markdown",
      "source": [
        "IMC"
      ],
      "metadata": {
        "id": "H9s5DBGN6YNy"
      }
    },
    {
      "cell_type": "code",
      "source": [
        "#ENTRADA\n",
        "peso = float(input(\"qual e o seu peso\"))\n",
        "altura = float(input(\"qual e o sua altura\"))\n",
        "\n",
        "#PROCESSAMENTO\n",
        "\n",
        "imc = (peso/altura**2)\n",
        "baixo = imc < 18.5\n",
        "normal = 18.5 <= imc <=24.9\n",
        "sobrepeso = 25 <= imc <=29.9\n",
        "obesidade1 = 30 <= imc <=34.9\n",
        "obesidade2 = 35 <= imc >39.9\n",
        "obesidade3 = imc > 40\n",
        "\n",
        "#Saída\n",
        "print(\"Tem peso baixo?\", baixo)\n",
        "print(\"Tem peso normal?\", normal)\n",
        "print(\"Tem sobrepeso?\", sobrepeso)\n",
        "print(\"obesidade1\",obesidade1)\n",
        "print(\"obesidade2\",obesidade2)\n",
        "print(\"obesidade3\",obesidade3)"
      ],
      "metadata": {
        "id": "AS8rVrmy6b2S"
      },
      "execution_count": null,
      "outputs": []
    },
    {
      "cell_type": "markdown",
      "source": [
        "Idade"
      ],
      "metadata": {
        "id": "lpaHxB50Ab8U"
      }
    },
    {
      "cell_type": "code",
      "source": [
        "#entrada\n",
        "altura = float(input(\"Qual a sua altura hein? \"))\n",
        "idade = input(input(\"Qual é sua idade? \"))\n",
        "\n",
        "#processamento\n",
        "pode = (altura >=1.75) and (idade >= 18)\n",
        "\n",
        "#saída\n",
        "print(\"pode competir\", pode)"
      ],
      "metadata": {
        "id": "XE7Md4w_Afjg"
      },
      "execution_count": null,
      "outputs": []
    }
  ]
}