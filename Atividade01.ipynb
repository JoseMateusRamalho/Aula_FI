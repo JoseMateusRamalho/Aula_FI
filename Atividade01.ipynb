{
  "nbformat": 4,
  "nbformat_minor": 0,
  "metadata": {
    "colab": {
      "provenance": [],
      "authorship_tag": "ABX9TyN79TJoUZb2p7i00AmwX1O+",
      "include_colab_link": true
    },
    "kernelspec": {
      "name": "python3",
      "display_name": "Python 3"
    },
    "language_info": {
      "name": "python"
    }
  },
  "cells": [
    {
      "cell_type": "markdown",
      "metadata": {
        "id": "view-in-github",
        "colab_type": "text"
      },
      "source": [
        "<a href=\"https://colab.research.google.com/github/JoseMateusRamalho/Aula_FI/blob/main/Atividade01.ipynb\" target=\"_parent\"><img src=\"https://colab.research.google.com/assets/colab-badge.svg\" alt=\"Open In Colab\"/></a>"
      ]
    },
    {
      "cell_type": "code",
      "execution_count": 1,
      "metadata": {
        "colab": {
          "base_uri": "https://localhost:8080/"
        },
        "id": "C8EGTOnmRzaf",
        "outputId": "b9093c3c-aae1-4c1b-8bc5-62bb2418a76a"
      },
      "outputs": [
        {
          "output_type": "stream",
          "name": "stdout",
          "text": [
            "digite um número para ver se e par ou ímpar2\n",
            "o numero digitado é: par True\n",
            "o numero digitado é: impar False\n"
          ]
        }
      ],
      "source": [
        "#entrada\n",
        "valor=int(input(\"digite um número para ver se e par ou ímpar\"))\n",
        "par = (valor%2==0)\n",
        "impar = (valor%2==1)\n",
        "#processamento\n",
        "print(\"o numero digitado é: par\", par)\n",
        "print(\"o numero digitado é: impar\", impar)"
      ]
    },
    {
      "cell_type": "markdown",
      "source": [
        "Triângulo"
      ],
      "metadata": {
        "id": "HwmLtK7rTCa7"
      }
    },
    {
      "cell_type": "markdown",
      "source": [
        "\n"
      ],
      "metadata": {
        "id": "WXNFHzyxTLXd"
      }
    },
    {
      "cell_type": "code",
      "source": [
        "#entrada\n",
        "L1=int(input(\"digite o tres lado do triangulo, digite o lado  do l1 \"))\n",
        "L2=int(input(\"digite o lado do L2 \"))\n",
        "L3=int(input(\"digite o lado do L3 \"))\n",
        "triangulo = (L1+L2>L3) and (L2+L3>L1) and (L3+L1>L2)\n",
        "print(triangulo)\n",
        "equilatero=(L1==L2==L3)\n",
        "print(equilatero)\n",
        "escaleno=L1!= L2 !=L3\n",
        "print(escaleno)\n",
        "isoceles=(equilatero==escaleno)\n",
        "#processamento\n",
        "print(isoceles)\n",
        "print(\"o triangulo é valido ?\", triangulo)\n",
        "print(\" o equilatero é\", equilatero)\n",
        "print(\"o escaleno é\", escaleno)\n",
        "print(\"o isoceles é\", isoceles)"
      ],
      "metadata": {
        "colab": {
          "base_uri": "https://localhost:8080/"
        },
        "id": "CFdK7ZEvTx4D",
        "outputId": "62d7dc5a-3e61-4c42-df78-61c905434601"
      },
      "execution_count": 2,
      "outputs": [
        {
          "output_type": "stream",
          "name": "stdout",
          "text": [
            "digite o tres lado do triangulo, digite o lado  do l1 3\n",
            "digite o lado do L2 2\n",
            "digite o lado do L3 3\n",
            "True\n",
            "False\n",
            "True\n",
            "False\n",
            "o triangulo é valido ? True\n",
            " o equilatero é False\n",
            "o escaleno é True\n",
            "o isoceles é False\n"
          ]
        }
      ]
    },
    {
      "cell_type": "markdown",
      "source": [
        "Peso"
      ],
      "metadata": {
        "id": "Q9I9xL33T6aB"
      }
    },
    {
      "cell_type": "code",
      "source": [
        "#entrada\n",
        "peso=float(input(\"digite o peso (em kg) \"))\n",
        "altura=float(input(\"digite a altura (em metro) \"))\n",
        "imc=( peso/altura**2)\n",
        "abaixo_do_peso = imc < 18.5\n",
        "peso_normal=(imc>=18.5 and imc<=24.9)\n",
        "sobrepeso=(imc>=25 and imc<=29.9)\n",
        "obesidade_grau_1=(imc>=30 and imc<=34.9)\n",
        "obesidade_grau_2=(imc>=35 and imc<=39.9)\n",
        "obesidade_grau_3=(imc>=40)\n",
        "#processamento\n",
        "print(\"o imc é\", imc)\n",
        "print(\"abaixo_do_peso\", abaixo_do_peso)\n",
        "print(\"peso_normal\", peso_normal)\n",
        "print(\"sobrepeso\", sobrepeso)\n",
        "print(\"obesidade_grau_1\", obesidade_grau_1)\n",
        "print(\"obesidade_grau_2\", obesidade_grau_2)\n",
        "print(\"obesidade_grau_3\", obesidade_grau_3)"
      ],
      "metadata": {
        "colab": {
          "base_uri": "https://localhost:8080/"
        },
        "id": "0PUjsWCnUBr1",
        "outputId": "29bddece-d247-4b03-9f7d-a0e29a96be33"
      },
      "execution_count": 3,
      "outputs": [
        {
          "output_type": "stream",
          "name": "stdout",
          "text": [
            "digite o peso (em kg) 10000\n",
            "digite a altura (em metro) 1\n",
            "o imc é 10000.0\n",
            "abaixo_do_peso False\n",
            "peso_normal False\n",
            "sobrepeso False\n",
            "obesidade_grau_1 False\n",
            "obesidade_grau_2 False\n",
            "obesidade_grau_3 True\n"
          ]
        }
      ]
    },
    {
      "cell_type": "markdown",
      "source": [
        "Altura"
      ],
      "metadata": {
        "id": "rxSLAxedUWZr"
      }
    },
    {
      "cell_type": "code",
      "source": [
        "#entrada\n",
        "altura=float(input(\"digite a altura \"))\n",
        "idade=int(input(\"digite a idade \"))\n",
        "liberado = altura>=1.75 and idade>=18\n",
        "#processamento\n",
        "print(\"pode\", liberado)"
      ],
      "metadata": {
        "colab": {
          "base_uri": "https://localhost:8080/"
        },
        "id": "5U15UfAwUeuX",
        "outputId": "c879efe5-db62-4353-c22d-48295cd5014c"
      },
      "execution_count": 5,
      "outputs": [
        {
          "output_type": "stream",
          "name": "stdout",
          "text": [
            "digite a altura 1.9\n",
            "digite a idade 67\n",
            "pode True\n"
          ]
        }
      ]
    }
  ]
}