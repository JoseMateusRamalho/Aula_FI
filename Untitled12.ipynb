{
  "nbformat": 4,
  "nbformat_minor": 0,
  "metadata": {
    "colab": {
      "provenance": [],
      "authorship_tag": "ABX9TyNBeeYPfEACNEdOU36zH05q",
      "include_colab_link": true
    },
    "kernelspec": {
      "name": "python3",
      "display_name": "Python 3"
    },
    "language_info": {
      "name": "python"
    }
  },
  "cells": [
    {
      "cell_type": "markdown",
      "metadata": {
        "id": "view-in-github",
        "colab_type": "text"
      },
      "source": [
        "<a href=\"https://colab.research.google.com/github/JoseMateusRamalho/Aula_FI/blob/main/Untitled12.ipynb\" target=\"_parent\"><img src=\"https://colab.research.google.com/assets/colab-badge.svg\" alt=\"Open In Colab\"/></a>"
      ]
    },
    {
      "cell_type": "code",
      "execution_count": 2,
      "metadata": {
        "colab": {
          "base_uri": "https://localhost:8080/"
        },
        "id": "ihdEkyGyuGFt",
        "outputId": "775fb4d5-fbfb-4fbc-da22-88305c2973f3"
      },
      "outputs": [
        {
          "output_type": "stream",
          "name": "stdout",
          "text": [
            "450\n",
            "Ronaldo\n",
            "[1, 2, 3]\n"
          ]
        }
      ],
      "source": [
        "dados = (450, \"Ronaldo\",[1,2,3])\n",
        "\n",
        "for i in dados:\n",
        "  print(i)"
      ]
    },
    {
      "cell_type": "code",
      "source": [
        "alturas = {}\n",
        "\n",
        "while True:\n",
        "  nome = input(\"Digite o nome da pessoa ou sai: \").lower()\n",
        "\n",
        "  if nome == \"sai\":\n",
        "    pessoamaisalta = max(alturas, key=alturas.get)\n",
        "    pessoamaisbaixa = min(alturas, key=alturas.get)\n",
        "    break\n",
        "  altura = float(input(f\"Altura de {nome}: \"))\n",
        "\n",
        "  alturas[nome]= altura\n",
        "  print(alturas)\n",
        "\n",
        "print(f\"A pessoa mais alta é {pessoamaisalta} com altura de {alturas[pessoamaisalta]}\")\n",
        "print(f\"A pessoa mais baixa é {pessoamaisbaixa} com altura de {alturas[pessoamaisbaixa]}\")"
      ],
      "metadata": {
        "colab": {
          "base_uri": "https://localhost:8080/"
        },
        "id": "Wkff8yCDvxPB",
        "outputId": "9d5f80bb-5b74-4420-88cb-d163140f1497"
      },
      "execution_count": 4,
      "outputs": [
        {
          "output_type": "stream",
          "name": "stdout",
          "text": [
            "Digite o nome da pessoa ou sai: ediniçicleusoun\n",
            "Altura de ediniçicleusoun: 1\n",
            "{'ediniçicleusoun': 1.0}\n",
            "Digite o nome da pessoa ou sai: ronaldo2\n",
            "Altura de ronaldo2: 2\n",
            "{'ediniçicleusoun': 1.0, 'ronaldo2': 2.0}\n",
            "Digite o nome da pessoa ou sai: gaybriel\n",
            "Altura de gaybriel: 7\n",
            "{'ediniçicleusoun': 1.0, 'ronaldo2': 2.0, 'gaybriel': 7.0}\n",
            "Digite o nome da pessoa ou sai: cansei prç\n",
            "Altura de cansei prç: 67\n",
            "{'ediniçicleusoun': 1.0, 'ronaldo2': 2.0, 'gaybriel': 7.0, 'cansei prç': 67.0}\n",
            "Digite o nome da pessoa ou sai: yagio\n",
            "Altura de yagio: 45\n",
            "{'ediniçicleusoun': 1.0, 'ronaldo2': 2.0, 'gaybriel': 7.0, 'cansei prç': 67.0, 'yagio': 45.0}\n",
            "Digite o nome da pessoa ou sai: sai\n",
            "A pessoa mais alta é cansei prç com altura de 67.0\n",
            "A pessoa mais baixa é ediniçicleusoun com altura de 1.0\n"
          ]
        }
      ]
    },
    {
      "cell_type": "code",
      "source": [
        "lista = []\n",
        "\n",
        "for i in range(5):\n",
        "  number = int(input(\"digite um numero: \"))\n",
        "  lista.append(number)\n",
        "  print(lista)\n",
        "\n",
        "for i in lista:\n",
        "  div = lista[0]%3\n",
        "  if div == 0:\n",
        "    print(f\"{i} é multiplo de 3\")\n",
        "  print(div)"
      ],
      "metadata": {
        "colab": {
          "base_uri": "https://localhost:8080/"
        },
        "id": "Da12LCWRw9sk",
        "outputId": "ce13e254-8dfb-407b-c490-2f9bd15584a4"
      },
      "execution_count": 6,
      "outputs": [
        {
          "output_type": "stream",
          "name": "stdout",
          "text": [
            "digite um numero: 7\n",
            "[7]\n",
            "digite um numero: 777\n",
            "[7, 777]\n",
            "digite um numero: 99\n",
            "[7, 777, 99]\n",
            "digite um numero: 5\n",
            "[7, 777, 99, 5]\n",
            "digite um numero: 8\n",
            "[7, 777, 99, 5, 8]\n",
            "1\n",
            "1\n",
            "1\n",
            "1\n",
            "1\n"
          ]
        }
      ]
    },
    {
      "cell_type": "code",
      "source": [
        "new = \"\"\n",
        "frase = \"Eu sou python\"\n",
        "print(frase)\n",
        "# queb = frase.split()\n",
        "\n",
        "while True:\n",
        "  if \"python\" in frase:\n",
        "    frase = frase.replace(\"python\", \"programação\")\n",
        "    print(frase)\n",
        "    break"
      ],
      "metadata": {
        "colab": {
          "base_uri": "https://localhost:8080/"
        },
        "id": "D2nXiXDkx8k9",
        "outputId": "6f84db73-4419-46c9-e69b-c6d29ad45f13"
      },
      "execution_count": 7,
      "outputs": [
        {
          "output_type": "stream",
          "name": "stdout",
          "text": [
            "Eu sou python\n",
            "Eu sou programação\n"
          ]
        }
      ]
    },
    {
      "cell_type": "code",
      "source": [
        "produtos = {}\n",
        "\n",
        "while True:\n",
        "  itens = input(\"nome do do produto ou digite sair para sai: \")\n",
        "  if itens == \"sai]\":\n",
        "\n",
        "    break\n",
        "  valor = float(input(\"preço do produto: \"))\n",
        "\n",
        "  produtos[itens] = valor\n",
        "\n",
        "print(produtos)\n",
        "total = sum(produtos.values())\n",
        "print(total)\n",
        "if total >500:\n",
        "  total = total+(0.6*total)\n",
        "print(total)\n",
        ""
      ],
      "metadata": {
        "colab": {
          "base_uri": "https://localhost:8080/"
        },
        "id": "hQ9WeY0z3kCH",
        "outputId": "e8dea644-acff-47bf-ccfe-27c9ae605c85"
      },
      "execution_count": 10,
      "outputs": [
        {
          "output_type": "stream",
          "name": "stdout",
          "text": [
            "nome do do produto ou digite sair para sai: ronaldoblock\n",
            "preço do produto: 67\n",
            "nome do do produto ou digite sair para sai: bloco\n",
            "preço do produto: 96\n",
            "nome do do produto ou digite sair para sai: yh\n",
            "preço do produto: 1\n",
            "nome do do produto ou digite sair para sai: MFDOOM\n",
            "preço do produto: 09\n",
            "nome do do produto ou digite sair para sai: SAI\n",
            "preço do produto: 5\n",
            "nome do do produto ou digite sair para sai: sai\n",
            "{'ronaldoblock': 67.0, 'bloco': 96.0, 'yh': 1.0, 'MFDOOM': 9.0, 'SAI': 5.0}\n",
            "178.0\n",
            "178.0\n"
          ]
        }
      ]
    },
    {
      "cell_type": "code",
      "source": [
        "negativas =  ['triste', 'deprimido', 'ansioso', 'desapontado', 'frustrado']\n",
        "frase = input(\"Digite sua frase\") .lower()\n",
        "palavra_negativa = False\n",
        "\n",
        "for i in negativas:\n",
        "  if i in frase:\n",
        "    palavra_negativa = True\n",
        "    break\n",
        "\n",
        "if palavra_negativa == True:\n",
        "  print(\"Na sua frase tem palavras negativas\" , negativas)\n",
        "else:\n",
        "  print(\"Na sua frase não tem palavras negativas\")"
      ],
      "metadata": {
        "colab": {
          "base_uri": "https://localhost:8080/"
        },
        "id": "nr-CRAo18vfB",
        "outputId": "34730f80-2814-420d-a044-834bf62b3aca"
      },
      "execution_count": 11,
      "outputs": [
        {
          "output_type": "stream",
          "name": "stdout",
          "text": [
            "Digite sua frasemeu lápis esta desapontado\n",
            "Na sua frase tem palavras negativas ['triste', 'deprimido', 'ansioso', 'desapontado', 'frustrado']\n"
          ]
        }
      ]
    },
    {
      "cell_type": "code",
      "source": [
        "lista=[3,7,2,8,10]\n",
        "soma = 0\n",
        "\n",
        "for i in lista:\n",
        "  soma += i\n",
        "print(\"soma =\", soma)\n",
        ""
      ],
      "metadata": {
        "colab": {
          "base_uri": "https://localhost:8080/"
        },
        "id": "RRLWaaYU89p4",
        "outputId": "91741b32-1be8-4f69-cc18-29a847903119"
      },
      "execution_count": 12,
      "outputs": [
        {
          "output_type": "stream",
          "name": "stdout",
          "text": [
            "soma = 30\n"
          ]
        }
      ]
    },
    {
      "cell_type": "code",
      "source": [
        "palavra = input(\"Digite uma palavra: \")\n",
        "contar = 0\n",
        "vogais = \"a,e,i,o,u\"\n",
        "\n",
        "for i in palavra:\n",
        "  if i in vogais:\n",
        "    contar += 1\n",
        "print(\"Está palavra tem\",contar,\"vogais\")"
      ],
      "metadata": {
        "colab": {
          "base_uri": "https://localhost:8080/"
        },
        "id": "SHVOLHjc9Dbb",
        "outputId": "3aa46fa7-36c1-4884-8419-d827912c4f2b"
      },
      "execution_count": 13,
      "outputs": [
        {
          "output_type": "stream",
          "name": "stdout",
          "text": [
            "Digite uma palavra: quadradoslaprç\n",
            "Está palavra tem 5 vogais\n"
          ]
        }
      ]
    },
    {
      "cell_type": "code",
      "source": [
        "lista = [\"Ana\", \"João\", \"Carlos\", \"Maria\"]\n",
        "inver =[]\n",
        "\n",
        "while len(lista) > 0:\n",
        "  ultimo = lista.pop() #remove e pega o último elemento\n",
        "  inver.append(ultimo)\n",
        "\n",
        "print(\"Lista invertida:\",inver)"
      ],
      "metadata": {
        "colab": {
          "base_uri": "https://localhost:8080/"
        },
        "id": "MoVr9bMn9LvY",
        "outputId": "a2d3cbf0-4b23-4fa3-9e61-c7dc27ec1d41"
      },
      "execution_count": 14,
      "outputs": [
        {
          "output_type": "stream",
          "name": "stdout",
          "text": [
            "Lista invertida: ['Maria', 'Carlos', 'João', 'Ana']\n"
          ]
        }
      ]
    },
    {
      "cell_type": "code",
      "source": [
        "num = [67,120,31,15,7,87,4,24,20]\n",
        "print(\"O maior número é:\",max(num))"
      ],
      "metadata": {
        "colab": {
          "base_uri": "https://localhost:8080/"
        },
        "id": "1Cp4oVqx9c_y",
        "outputId": "7daaa717-da60-476d-9979-c4c85a8e0286"
      },
      "execution_count": 17,
      "outputs": [
        {
          "output_type": "stream",
          "name": "stdout",
          "text": [
            "O maior número é: 120\n"
          ]
        }
      ]
    },
    {
      "cell_type": "code",
      "source": [
        "valor = [1, 2, 2, 3, 4, 4, 5]\n",
        "unic = []\n",
        "\n",
        "for v in valor:\n",
        "  if v not in unic:\n",
        "    unic.append(v)\n",
        "\n",
        "print(\"Lista sem repetir elementos:\", unic)"
      ],
      "metadata": {
        "colab": {
          "base_uri": "https://localhost:8080/"
        },
        "id": "6Ewl5OQg9st6",
        "outputId": "5e8d72f4-c039-4d32-82a3-0529b00e9614"
      },
      "execution_count": 18,
      "outputs": [
        {
          "output_type": "stream",
          "name": "stdout",
          "text": [
            "Lista sem repetir elementos: [1, 2, 3, 4, 5]\n"
          ]
        }
      ]
    },
    {
      "cell_type": "code",
      "source": [
        "palavra = input(\"Digite uma palavra: \")\n",
        "\n",
        "palindromo = True\n",
        "tam = len(palavra)\n",
        "for i in range( tam // 2):\n",
        "  if palavra[i] != palavra[tam - 1 - i]:\n",
        "    palindromo = False\n",
        "    break\n",
        "if palindromo :\n",
        "  print(\"É um palíndromo\")\n",
        "else:\n",
        "  print(\"Não é um palíndromo\")"
      ],
      "metadata": {
        "colab": {
          "base_uri": "https://localhost:8080/"
        },
        "id": "XkOiUL2C94yD",
        "outputId": "196c1edb-3aef-46e3-ce85-255e399e44c2"
      },
      "execution_count": 19,
      "outputs": [
        {
          "output_type": "stream",
          "name": "stdout",
          "text": [
            "Digite uma palavra: ovo\n",
            "É um palíndromo\n"
          ]
        }
      ]
    },
    {
      "cell_type": "code",
      "source": [
        "num = int(input(\"Digite um número: \"))\n",
        "while num >=0:\n",
        "  print(num)\n",
        "  num -= 1 #decrementa o número em 1 a cada passo, fazendo a contagem regressiva.\n",
        "print(\"A contagem acaba aqui\")"
      ],
      "metadata": {
        "colab": {
          "base_uri": "https://localhost:8080/"
        },
        "id": "GevD42TE-KaU",
        "outputId": "3085cbd1-d30f-49cd-8a3e-afc8ec067d38"
      },
      "execution_count": 20,
      "outputs": [
        {
          "output_type": "stream",
          "name": "stdout",
          "text": [
            "Digite um número: 44\n",
            "44\n",
            "43\n",
            "42\n",
            "41\n",
            "40\n",
            "39\n",
            "38\n",
            "37\n",
            "36\n",
            "35\n",
            "34\n",
            "33\n",
            "32\n",
            "31\n",
            "30\n",
            "29\n",
            "28\n",
            "27\n",
            "26\n",
            "25\n",
            "24\n",
            "23\n",
            "22\n",
            "21\n",
            "20\n",
            "19\n",
            "18\n",
            "17\n",
            "16\n",
            "15\n",
            "14\n",
            "13\n",
            "12\n",
            "11\n",
            "10\n",
            "9\n",
            "8\n",
            "7\n",
            "6\n",
            "5\n",
            "4\n",
            "3\n",
            "2\n",
            "1\n",
            "0\n",
            "A contagem acaba aqui\n"
          ]
        }
      ]
    },
    {
      "cell_type": "code",
      "source": [
        "notas = {\"Ana\": 8, \"Carlos\": 7, \"Maria\": 10}\n",
        "for aluno,nota in notas.items():\n",
        "  print(aluno,\"tem nota\", nota )"
      ],
      "metadata": {
        "colab": {
          "base_uri": "https://localhost:8080/"
        },
        "id": "ywONaqzm-OV-",
        "outputId": "768840a8-3c5c-40a4-8554-2c8caa169150"
      },
      "execution_count": 21,
      "outputs": [
        {
          "output_type": "stream",
          "name": "stdout",
          "text": [
            "Ana tem nota 8\n",
            "Carlos tem nota 7\n",
            "Maria tem nota 10\n"
          ]
        }
      ]
    },
    {
      "cell_type": "code",
      "source": [
        "numeros = [10, 21, 32, 43, 54]\n",
        "par = []\n",
        "for i in numeros:\n",
        "  if i %2 == 0: #verifica se o número é par\n",
        "    par.append(i)\n",
        "\n",
        "print(\"Números pares\",par)\n",
        ""
      ],
      "metadata": {
        "colab": {
          "base_uri": "https://localhost:8080/"
        },
        "id": "RR1rjOGk-Vdh",
        "outputId": "621ca3fc-8f12-4e6f-caa8-541869e0acf5"
      },
      "execution_count": 22,
      "outputs": [
        {
          "output_type": "stream",
          "name": "stdout",
          "text": [
            "Números pares [10, 32, 54]\n"
          ]
        }
      ]
    },
    {
      "cell_type": "code",
      "source": [
        "frase = input(\"Digite uma frase: \")\n",
        "palavra = frase.split()\n",
        "contar = {}\n",
        "\n",
        "for i in palavra:\n",
        "  if i in contar:\n",
        "    contar[i] +=1\n",
        "  else:\n",
        "    contar[i] = 1\n",
        "print(\"Contagem de palavras: \",contar)"
      ],
      "metadata": {
        "colab": {
          "base_uri": "https://localhost:8080/"
        },
        "id": "KMcL9Fmq-ZYM",
        "outputId": "8f6bc50d-4d46-48d1-be1a-ec6e38d1c57e"
      },
      "execution_count": 24,
      "outputs": [
        {
          "output_type": "stream",
          "name": "stdout",
          "text": [
            "Digite uma frase: brayan legal\n",
            "Contagem de palavras:  {'brayan': 1, 'legal': 1}\n"
          ]
        }
      ]
    }
  ]
}