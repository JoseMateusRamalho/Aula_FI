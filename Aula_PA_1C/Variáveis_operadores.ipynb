{
  "nbformat": 4,
  "nbformat_minor": 0,
  "metadata": {
    "colab": {
      "provenance": [],
      "authorship_tag": "ABX9TyMAFyL+3ORieL711fiCPerl",
      "include_colab_link": true
    },
    "kernelspec": {
      "name": "python3",
      "display_name": "Python 3"
    },
    "language_info": {
      "name": "python"
    }
  },
  "cells": [
    {
      "cell_type": "markdown",
      "metadata": {
        "id": "view-in-github",
        "colab_type": "text"
      },
      "source": [
        "<a href=\"https://colab.research.google.com/github/JoseMateusRamalho/Aula_FI/blob/main/Aula_PA_1C/Vari%C3%A1veis_operadores.ipynb\" target=\"_parent\"><img src=\"https://colab.research.google.com/assets/colab-badge.svg\" alt=\"Open In Colab\"/></a>"
      ]
    },
    {
      "cell_type": "code",
      "execution_count": 1,
      "metadata": {
        "colab": {
          "base_uri": "https://localhost:8080/"
        },
        "id": "cQwEdnxHTIPU",
        "outputId": "4a4381d5-e94b-4338-93fa-cd70734538e8"
      },
      "outputs": [
        {
          "output_type": "stream",
          "name": "stdout",
          "text": [
            "nota da prova 19\n",
            "nota da prova 20\n",
            "A média das provas é igual a 4.5\n"
          ]
        }
      ],
      "source": [
        "#Entrada\n",
        "P1 = float(input('nota da prova 1'))\n",
        "P2 = float(input('nota da prova 2'))\n",
        "#Processamento\n",
        "area = (P1 + P2)/2\n",
        "#Saída\n",
        "print ('A média das provas é igual a' , area)"
      ]
    },
    {
      "cell_type": "code",
      "source": [
        "#Entrada\n",
        "C = float(input('graus celsius'))\n",
        "#Processamento\n",
        "Fahrenheit = (C * 1.8)+32\n",
        "#Saída\n",
        "print ('a temperatura em fahrenheit é igual a' , Fahrenheit)"
      ],
      "metadata": {
        "colab": {
          "base_uri": "https://localhost:8080/"
        },
        "id": "ZxCF5TExbgKT",
        "outputId": "dc0983bc-c7d5-4fb1-f897-c905e779e134"
      },
      "execution_count": null,
      "outputs": [
        {
          "output_type": "stream",
          "name": "stdout",
          "text": [
            "graus celsius25\n",
            "a temperatura em fahrenheit é igual a 77.0\n"
          ]
        }
      ]
    },
    {
      "cell_type": "code",
      "source": [
        "#Entrada\n",
        "F = float(input('fahrenheit'))\n",
        "#Processamento\n",
        "Celsius = (F - 32)/1.8\n",
        "#Saída\n",
        "print ('a temperatura em Celsius é igual a' , Celsius)"
      ],
      "metadata": {
        "colab": {
          "base_uri": "https://localhost:8080/"
        },
        "id": "gij03YTxevEG",
        "outputId": "88a8a9d3-0788-4896-f528-1c368c28d8fc"
      },
      "execution_count": null,
      "outputs": [
        {
          "output_type": "stream",
          "name": "stdout",
          "text": [
            "fahrenheit77\n",
            "a temperatura em Celsius é igual a 25.0\n"
          ]
        }
      ]
    },
    {
      "cell_type": "code",
      "source": [
        "#Entrada\n",
        "V=float(input('valor do produto'))\n",
        "QT=float(input('quantidade do produto'))\n",
        "#Processamento\n",
        "VT = QT * V\n",
        "#Saída\n",
        "print ('o valor total será', VT)"
      ],
      "metadata": {
        "colab": {
          "base_uri": "https://localhost:8080/"
        },
        "id": "DsItXaHNj1Rr",
        "outputId": "29720de2-904d-4820-ba81-0f20fb2ca95e"
      },
      "execution_count": null,
      "outputs": [
        {
          "output_type": "stream",
          "name": "stdout",
          "text": [
            "valor do produto5\n",
            "quantidade do produto5\n",
            "o valor total será 25.0\n"
          ]
        }
      ]
    }
  ]
}