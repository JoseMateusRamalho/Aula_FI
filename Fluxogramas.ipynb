{
  "nbformat": 4,
  "nbformat_minor": 0,
  "metadata": {
    "colab": {
      "provenance": [],
      "authorship_tag": "ABX9TyN1d5pSnbBcMWWoilEFAGtT",
      "include_colab_link": true
    },
    "kernelspec": {
      "name": "python3",
      "display_name": "Python 3"
    },
    "language_info": {
      "name": "python"
    }
  },
  "cells": [
    {
      "cell_type": "markdown",
      "metadata": {
        "id": "view-in-github",
        "colab_type": "text"
      },
      "source": [
        "<a href=\"https://colab.research.google.com/github/JoseMateusRamalho/Aula_FI/blob/main/Fluxogramas.ipynb\" target=\"_parent\"><img src=\"https://colab.research.google.com/assets/colab-badge.svg\" alt=\"Open In Colab\"/></a>"
      ]
    },
    {
      "cell_type": "markdown",
      "source": [
        "Valor do carro"
      ],
      "metadata": {
        "id": "nKwFRZmYf0J2"
      }
    },
    {
      "cell_type": "markdown",
      "source": [],
      "metadata": {
        "id": "m_IIde76txdU"
      }
    },
    {
      "cell_type": "code",
      "execution_count": 2,
      "metadata": {
        "colab": {
          "base_uri": "https://localhost:8080/"
        },
        "id": "83dz9DsVfXrG",
        "outputId": "27797110-8584-4b06-b484-f276e6b76f27"
      },
      "outputs": [
        {
          "output_type": "stream",
          "name": "stdout",
          "text": [
            " digite o valor do carro 25000\n",
            "o valor do carro e 46400.0\n"
          ]
        }
      ],
      "source": [
        "#entrada\n",
        "valorcarro = float(input(' digite o valor do carro '))\n",
        "#processsamento\n",
        "imposto = (valorcarro * 45/100) + valorcarro\n",
        "distribuição = (imposto * 28/100) + imposto\n",
        "#saída\n",
        "print('o valor do carro e', distribuição)"
      ]
    },
    {
      "cell_type": "markdown",
      "source": [
        "Horário"
      ],
      "metadata": {
        "id": "BdRW3Sg5hrFk"
      }
    },
    {
      "cell_type": "code",
      "source": [
        "#entrada\n",
        "horas = float(input(\"digite as horas: \"))\n",
        "minutos = float(input(\"digite os minutos: \"))\n",
        "\n",
        "#processamento\n",
        "convercao = (minutos / 60) + horas\n",
        "\n",
        "#saída\n",
        "print(f\"as horas convertidas em decimais são: {convercao:.2f}\")"
      ],
      "metadata": {
        "colab": {
          "base_uri": "https://localhost:8080/"
        },
        "id": "H5bV7K8VpDgA",
        "outputId": "b1ab4cef-2804-47f5-c6ac-8c2a51cb5584"
      },
      "execution_count": 3,
      "outputs": [
        {
          "output_type": "stream",
          "name": "stdout",
          "text": [
            "digite as horas: 2\n",
            "digite os minutos: 30\n",
            "as horas convertidas em decimais são: 2.50\n"
          ]
        }
      ]
    },
    {
      "cell_type": "markdown",
      "source": [
        "Horas-extra"
      ],
      "metadata": {
        "id": "QKAl72X3pnWP"
      }
    },
    {
      "cell_type": "code",
      "source": [
        "#entrada\n",
        "horas = float(input(\"digite as horas: \"))\n",
        "minutos = float(input(\"digite os minutos: \"))\n",
        "valorhora = float(input(\"digite o valor da hora: \"))\n",
        "\n",
        "#processamento\n",
        "convertido = horas + (minutos/60)\n",
        "salario = (convertido * valorhora)\n",
        "salariofinal = (salario *70/100) + salario\n",
        "\n",
        "#saída\n",
        "print(f\"o salario final é: {salariofinal:.2f}\")"
      ],
      "metadata": {
        "colab": {
          "base_uri": "https://localhost:8080/"
        },
        "id": "Uxhfje0yp0H9",
        "outputId": "1156ee5c-5af3-4d8d-a333-c0f61c28e13d"
      },
      "execution_count": 4,
      "outputs": [
        {
          "output_type": "stream",
          "name": "stdout",
          "text": [
            "digite as horas: 2\n",
            "digite os minutos: 40\n",
            "digite o valor da hora: 35\n",
            "o salario final é: 158.67\n"
          ]
        }
      ]
    },
    {
      "cell_type": "markdown",
      "source": [
        "Juros"
      ],
      "metadata": {
        "id": "rbz8A5YXqZL_"
      }
    },
    {
      "cell_type": "code",
      "source": [
        "#entrada\n",
        "capitalinicial = float(input(\"digite o capital inicial: \"))\n",
        "taxajuros = float(input(\"digite a taxa de juros: \"))\n",
        "anos = float(input(\"digite os anos: \"))\n",
        "\n",
        "#processamento\n",
        "montante = capitalinicial * (1 + taxajuros/100) **anos\n",
        "\n",
        "#saída\n",
        "print(f\"o montante é: {montante:.2f}\")"
      ],
      "metadata": {
        "colab": {
          "base_uri": "https://localhost:8080/"
        },
        "id": "9rS9ZyU0qj6n",
        "outputId": "bca2d414-40aa-471f-b08a-3886a17b9963"
      },
      "execution_count": 5,
      "outputs": [
        {
          "output_type": "stream",
          "name": "stdout",
          "text": [
            "digite o capital inicial: 1000\n",
            "digite a taxa de juros: 3\n",
            "digite os anos: 6\n",
            "o montante é: 1194.05\n"
          ]
        }
      ]
    },
    {
      "cell_type": "markdown",
      "source": [
        "Gorjeta"
      ],
      "metadata": {
        "id": "btUJNNourChP"
      }
    },
    {
      "cell_type": "code",
      "source": [
        "\n",
        "# recebe valor da conta, valor da gorjeta e quamtidade de pessoas\n",
        "valorconta = float(input(\" digite o valor da conta: \"))\n",
        "gorjeta = float(input(\" digite o valor da gorjeta: \"))\n",
        "pessoas = int(input(\" digite a quantidade de pessoas: \"))\n",
        "\n",
        "# caucula o valor por pessoa\n",
        "taxaservico = (valorconta*10/100)\n",
        "valortotal = taxaservico + valorconta + gorjeta\n",
        "valorpessoa = (valortotal/pessoas)\n",
        "\n",
        "# valor por pessoa\n",
        "print(\" o valor por pessoa é: \", valorpessoa)"
      ],
      "metadata": {
        "colab": {
          "base_uri": "https://localhost:8080/"
        },
        "id": "i9QY7b9srLbJ",
        "outputId": "6bef513b-aad3-4006-c0b1-7a9fe9d6c36c"
      },
      "execution_count": 6,
      "outputs": [
        {
          "output_type": "stream",
          "name": "stdout",
          "text": [
            " digite o valor da conta: 400\n",
            " digite o valor da gorjeta: 50\n",
            " digite a quantidade de pessoas: 4\n",
            " o valor por pessoa é:  122.5\n"
          ]
        }
      ]
    }
  ]
}